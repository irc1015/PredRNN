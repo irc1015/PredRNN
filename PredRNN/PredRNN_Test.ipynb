{
 "cells": [
  {
   "cell_type": "code",
   "execution_count": 4,
   "id": "bb6b59ec",
   "metadata": {},
   "outputs": [
    {
     "name": "stdout",
     "output_type": "stream",
     "text": [
      "tensor([[[[-2.1652, -0.8340,  1.2277,  0.0472],\n",
      "          [ 0.1628,  0.6298,  0.0804, -0.6588],\n",
      "          [ 0.9122,  0.5863,  0.8479, -0.3764],\n",
      "          [ 0.3112, -0.0835,  0.9994,  1.0744],\n",
      "          [-0.4398, -0.6100,  1.1250, -1.2360]],\n",
      "\n",
      "         [[-0.9027, -0.2392, -0.0176,  1.4294],\n",
      "          [-0.8966,  1.5377, -0.4295,  0.6504],\n",
      "          [ 1.0600,  0.9158,  0.2250, -1.2704],\n",
      "          [ 0.8455, -0.6437,  0.4035, -1.8794],\n",
      "          [-1.8696, -1.5794, -0.2275, -0.1974]],\n",
      "\n",
      "         [[ 1.9728, -0.8401, -0.9827,  0.9861],\n",
      "          [-0.1883,  1.3442, -0.6882, -0.0291],\n",
      "          [ 1.0799, -1.4659, -2.0946, -0.2933],\n",
      "          [ 1.0271, -1.1435, -3.1286,  0.0491],\n",
      "          [ 0.9609,  0.1578,  1.5014, -1.1742]]],\n",
      "\n",
      "\n",
      "        [[[-0.6787, -0.1337, -0.9849, -0.6768],\n",
      "          [-0.9656,  1.8746,  0.6913,  0.2256],\n",
      "          [ 1.1479,  1.1300,  1.6408,  1.1600],\n",
      "          [ 1.2687,  0.7335, -0.6443, -0.1714],\n",
      "          [ 0.3324,  2.3056,  0.2107, -1.6239]],\n",
      "\n",
      "         [[-1.8975,  0.2974, -0.5170,  0.3940],\n",
      "          [ 1.4634, -1.1113, -1.5808,  0.4883],\n",
      "          [-0.0171, -0.8967, -1.1760, -1.3252],\n",
      "          [-0.7661,  1.0029,  0.4013, -0.1230],\n",
      "          [ 0.1990,  0.2557, -0.9095,  0.2543]],\n",
      "\n",
      "         [[ 0.0917,  0.2981, -1.1097,  0.7249],\n",
      "          [ 0.5355, -0.4567, -0.4289, -0.2099],\n",
      "          [-0.2376, -0.3664,  0.1699,  0.7358],\n",
      "          [ 0.6420, -2.3563,  0.1974, -0.0390],\n",
      "          [-0.5638, -1.3656,  0.4272,  1.4151]]]])\n"
     ]
    }
   ],
   "source": [
    "import torch\n",
    "\n",
    "frame = torch.randn(2, 3, 5, 4)\n",
    "print(frame)"
   ]
  },
  {
   "cell_type": "code",
   "execution_count": 5,
   "id": "6c072fe4",
   "metadata": {},
   "outputs": [
    {
     "name": "stdout",
     "output_type": "stream",
     "text": [
      "tensor([[[-0.9027, -0.2392, -0.0176,  1.4294],\n",
      "         [-0.8966,  1.5377, -0.4295,  0.6504],\n",
      "         [ 1.0600,  0.9158,  0.2250, -1.2704],\n",
      "         [ 0.8455, -0.6437,  0.4035, -1.8794],\n",
      "         [-1.8696, -1.5794, -0.2275, -0.1974]],\n",
      "\n",
      "        [[-1.8975,  0.2974, -0.5170,  0.3940],\n",
      "         [ 1.4634, -1.1113, -1.5808,  0.4883],\n",
      "         [-0.0171, -0.8967, -1.1760, -1.3252],\n",
      "         [-0.7661,  1.0029,  0.4013, -0.1230],\n",
      "         [ 0.1990,  0.2557, -0.9095,  0.2543]]])\n"
     ]
    }
   ],
   "source": [
    "t = 1\n",
    "print(frame[:, t])"
   ]
  },
  {
   "cell_type": "code",
   "execution_count": 6,
   "id": "91fffed8",
   "metadata": {},
   "outputs": [
    {
     "data": {
      "text/plain": [
       "device(type='cpu')"
      ]
     },
     "execution_count": 6,
     "metadata": {},
     "output_type": "execute_result"
    }
   ],
   "source": [
    "torch.device('cpu')"
   ]
  },
  {
   "cell_type": "code",
   "execution_count": 7,
   "id": "2dbeb4dd",
   "metadata": {},
   "outputs": [
    {
     "data": {
      "text/plain": [
       "device(type='cpu', index=0)"
      ]
     },
     "execution_count": 7,
     "metadata": {},
     "output_type": "execute_result"
    }
   ],
   "source": [
    "torch.device('cpu', 0)"
   ]
  },
  {
   "cell_type": "code",
   "execution_count": 8,
   "id": "0560d08a",
   "metadata": {},
   "outputs": [
    {
     "data": {
      "text/plain": [
       "device(type='cpu', index=1)"
      ]
     },
     "execution_count": 8,
     "metadata": {},
     "output_type": "execute_result"
    }
   ],
   "source": [
    "torch.device('cpu', 1)"
   ]
  },
  {
   "cell_type": "code",
   "execution_count": 9,
   "id": "b43207f4",
   "metadata": {},
   "outputs": [
    {
     "data": {
      "text/plain": [
       "device(type='cpu', index=2)"
      ]
     },
     "execution_count": 9,
     "metadata": {},
     "output_type": "execute_result"
    }
   ],
   "source": [
    "torch.device('cpu', 2)"
   ]
  },
  {
   "cell_type": "code",
   "execution_count": 10,
   "id": "93c051d8",
   "metadata": {},
   "outputs": [
    {
     "data": {
      "text/plain": [
       "device(type='cpu', index=100)"
      ]
     },
     "execution_count": 10,
     "metadata": {},
     "output_type": "execute_result"
    }
   ],
   "source": [
    "torch.device('cpu', 100)"
   ]
  },
  {
   "cell_type": "code",
   "execution_count": 11,
   "id": "05f9bbdd",
   "metadata": {},
   "outputs": [
    {
     "data": {
      "text/plain": [
       "device(type='cpu')"
      ]
     },
     "execution_count": 11,
     "metadata": {},
     "output_type": "execute_result"
    }
   ],
   "source": [
    "torch.device('cpu')"
   ]
  },
  {
   "cell_type": "code",
   "execution_count": 1,
   "id": "d7adf7b1",
   "metadata": {},
   "outputs": [
    {
     "name": "stdout",
     "output_type": "stream",
     "text": [
      "[2, 4, 6, 8, 10]\n"
     ]
    }
   ],
   "source": [
    "lista = [1, 2, 3, 4, 5, 6, 7, 8, 9, 10]\n",
    "\n",
    "listb = lista[1::2]\n",
    "print(listb)"
   ]
  },
  {
   "cell_type": "code",
   "execution_count": 1,
   "id": "550e7524",
   "metadata": {},
   "outputs": [
    {
     "name": "stdout",
     "output_type": "stream",
     "text": [
      "tensor([1, 2, 3, 4, 5, 6, 7, 8, 9])\n"
     ]
    }
   ],
   "source": [
    "import torch\n",
    "numbers = torch.arange(1, 10)\n",
    "print(numbers)"
   ]
  },
  {
   "cell_type": "code",
   "execution_count": 2,
   "id": "2ffca390",
   "metadata": {},
   "outputs": [
    {
     "name": "stdout",
     "output_type": "stream",
     "text": [
      "1.12.1\n"
     ]
    }
   ],
   "source": [
    "print(torch.__version__)"
   ]
  },
  {
   "cell_type": "code",
   "execution_count": 3,
   "id": "38b80293",
   "metadata": {},
   "outputs": [
    {
     "name": "stdout",
     "output_type": "stream",
     "text": [
      "1.12.1\n"
     ]
    }
   ],
   "source": [
    "import torch\n",
    "import numpy as np\n",
    "print(torch.__version__)"
   ]
  },
  {
   "cell_type": "code",
   "execution_count": 13,
   "id": "6494238a",
   "metadata": {},
   "outputs": [
    {
     "name": "stdout",
     "output_type": "stream",
     "text": [
      "[[[[ 0  1  2]\n",
      "   [ 3  4  5]]\n",
      "\n",
      "  [[ 6  7  8]\n",
      "   [ 9 10 11]]\n",
      "\n",
      "  [[12 13 14]\n",
      "   [15 16 17]]\n",
      "\n",
      "  [[18 19 20]\n",
      "   [21 22 23]]]\n",
      "\n",
      "\n",
      " [[[24 25 26]\n",
      "   [27 28 29]]\n",
      "\n",
      "  [[30 31 32]\n",
      "   [33 34 35]]\n",
      "\n",
      "  [[36 37 38]\n",
      "   [39 40 41]]\n",
      "\n",
      "  [[42 43 44]\n",
      "   [45 46 47]]]\n",
      "\n",
      "\n",
      " [[[48 49 50]\n",
      "   [51 52 53]]\n",
      "\n",
      "  [[54 55 56]\n",
      "   [57 58 59]]\n",
      "\n",
      "  [[60 61 62]\n",
      "   [63 64 65]]\n",
      "\n",
      "  [[66 67 68]\n",
      "   [69 70 71]]]]\n",
      "4\n",
      "[[[ 0  1  2]\n",
      "  [ 6  7  8]\n",
      "  [12 13 14]\n",
      "  [18 19 20]]\n",
      "\n",
      " [[24 25 26]\n",
      "  [30 31 32]\n",
      "  [36 37 38]\n",
      "  [42 43 44]]\n",
      "\n",
      " [[48 49 50]\n",
      "  [54 55 56]\n",
      "  [60 61 62]\n",
      "  [66 67 68]]]\n"
     ]
    }
   ],
   "source": [
    "a= np.arange(72).reshape(3,4,2,3)\n",
    "print(a)\n",
    "\n",
    "num = a.shape[1]\n",
    "print(num)\n",
    "\n",
    "lista = a[:,:,0]\n",
    "print(lista)"
   ]
  },
  {
   "cell_type": "code",
   "execution_count": 14,
   "id": "664431ca",
   "metadata": {},
   "outputs": [
    {
     "name": "stdout",
     "output_type": "stream",
     "text": [
      "[[[[ 4  5  6]\n",
      "   [ 3  4  5]]\n",
      "\n",
      "  [[10 11 12]\n",
      "   [ 9 10 11]]\n",
      "\n",
      "  [[16 17 18]\n",
      "   [15 16 17]]\n",
      "\n",
      "  [[22 23 24]\n",
      "   [21 22 23]]]\n",
      "\n",
      "\n",
      " [[[28 29 30]\n",
      "   [27 28 29]]\n",
      "\n",
      "  [[34 35 36]\n",
      "   [33 34 35]]\n",
      "\n",
      "  [[40 41 42]\n",
      "   [39 40 41]]\n",
      "\n",
      "  [[46 47 48]\n",
      "   [45 46 47]]]\n",
      "\n",
      "\n",
      " [[[52 53 54]\n",
      "   [51 52 53]]\n",
      "\n",
      "  [[58 59 60]\n",
      "   [57 58 59]]\n",
      "\n",
      "  [[64 65 66]\n",
      "   [63 64 65]]\n",
      "\n",
      "  [[70 71 72]\n",
      "   [69 70 71]]]]\n"
     ]
    }
   ],
   "source": [
    "a[:,:,0] += num\n",
    "print(a)"
   ]
  },
  {
   "cell_type": "code",
   "execution_count": 15,
   "id": "b75b955e",
   "metadata": {},
   "outputs": [
    {
     "name": "stdout",
     "output_type": "stream",
     "text": [
      "tensor([[-1.0041,  0.1593, -0.8779,  1.1117, -0.2759],\n",
      "        [-0.3267,  1.4914,  1.0904, -0.0229,  0.8103],\n",
      "        [ 0.2355,  0.1386, -0.8539, -0.7806,  1.0804],\n",
      "        [ 1.5184,  0.4209, -0.6098, -2.0629, -0.9200]])\n"
     ]
    }
   ],
   "source": [
    "t_1 = torch.randn(4, 5)\n",
    "print(t_1)"
   ]
  },
  {
   "cell_type": "code",
   "execution_count": 16,
   "id": "b8682e90",
   "metadata": {},
   "outputs": [
    {
     "name": "stdout",
     "output_type": "stream",
     "text": [
      "tensor(1.0904)\n"
     ]
    }
   ],
   "source": [
    "print(t_1[1,2])"
   ]
  },
  {
   "cell_type": "code",
   "execution_count": 18,
   "id": "0a3063c2",
   "metadata": {},
   "outputs": [
    {
     "name": "stdout",
     "output_type": "stream",
     "text": [
      "12\n"
     ]
    }
   ],
   "source": [
    "a = 3\n",
    "b = 4\n",
    "c = a * \\\n",
    "b\n",
    "print(c)"
   ]
  },
  {
   "cell_type": "code",
   "execution_count": 23,
   "id": "61ca4db7",
   "metadata": {},
   "outputs": [
    {
     "name": "stdout",
     "output_type": "stream",
     "text": [
      "(20, 10000, 64, 64)\n"
     ]
    }
   ],
   "source": [
    "mnist = np.load('mnist.npy')\n",
    "print(mnist.shape)"
   ]
  },
  {
   "cell_type": "code",
   "execution_count": 24,
   "id": "68494935",
   "metadata": {},
   "outputs": [
    {
     "name": "stdout",
     "output_type": "stream",
     "text": [
      "['data', 'moving-mnist-example', 'moving-mnist-train.npz']\n",
      "variable name: clips  type: int32  shape:(2, 10000, 2)\n",
      "variable name: dims  type: int32  shape:(1, 3)\n",
      "variable name: input_raw_data  type: float32  shape:(200000, 1, 64, 64)\n"
     ]
    }
   ],
   "source": [
    "path = 'data/moving-mnist-example/moving-mnist-train.npz'\n",
    "train_mnist = path.split('/')\n",
    "print(train_mnist)\n",
    "mnist = np.load(path)\n",
    "for key in mnist.keys():\n",
    "    print(\"variable name:\", key          , end=\"  \")\n",
    "    print(\"type: \"+ str(mnist[key].dtype) , end=\"  \")\n",
    "    print(\"shape:\"+ str(mnist[key].shape))"
   ]
  },
  {
   "cell_type": "code",
   "execution_count": 25,
   "id": "6e15af71",
   "metadata": {},
   "outputs": [
    {
     "name": "stdout",
     "output_type": "stream",
     "text": [
      "[[ 1 64 64]]\n"
     ]
    }
   ],
   "source": [
    "print(mnist['dims'])"
   ]
  },
  {
   "cell_type": "code",
   "execution_count": 33,
   "id": "eb695850",
   "metadata": {
    "scrolled": true
   },
   "outputs": [
    {
     "name": "stdout",
     "output_type": "stream",
     "text": [
      "torch.Size([21, 3, 3])\n",
      "tensor([[[  0,   1,   2],\n",
      "         [  3,   4,   5],\n",
      "         [  6,   7,   8]],\n",
      "\n",
      "        [[  9,  10,  11],\n",
      "         [ 12,  13,  14],\n",
      "         [ 15,  16,  17]],\n",
      "\n",
      "        [[ 18,  19,  20],\n",
      "         [ 21,  22,  23],\n",
      "         [ 24,  25,  26]],\n",
      "\n",
      "        [[ 27,  28,  29],\n",
      "         [ 30,  31,  32],\n",
      "         [ 33,  34,  35]],\n",
      "\n",
      "        [[ 36,  37,  38],\n",
      "         [ 39,  40,  41],\n",
      "         [ 42,  43,  44]],\n",
      "\n",
      "        [[ 45,  46,  47],\n",
      "         [ 48,  49,  50],\n",
      "         [ 51,  52,  53]],\n",
      "\n",
      "        [[ 54,  55,  56],\n",
      "         [ 57,  58,  59],\n",
      "         [ 60,  61,  62]],\n",
      "\n",
      "        [[ 63,  64,  65],\n",
      "         [ 66,  67,  68],\n",
      "         [ 69,  70,  71]],\n",
      "\n",
      "        [[ 72,  73,  74],\n",
      "         [ 75,  76,  77],\n",
      "         [ 78,  79,  80]],\n",
      "\n",
      "        [[ 81,  82,  83],\n",
      "         [ 84,  85,  86],\n",
      "         [ 87,  88,  89]],\n",
      "\n",
      "        [[ 90,  91,  92],\n",
      "         [ 93,  94,  95],\n",
      "         [ 96,  97,  98]],\n",
      "\n",
      "        [[ 99, 100, 101],\n",
      "         [102, 103, 104],\n",
      "         [105, 106, 107]],\n",
      "\n",
      "        [[108, 109, 110],\n",
      "         [111, 112, 113],\n",
      "         [114, 115, 116]],\n",
      "\n",
      "        [[117, 118, 119],\n",
      "         [120, 121, 122],\n",
      "         [123, 124, 125]],\n",
      "\n",
      "        [[126, 127, 128],\n",
      "         [129, 130, 131],\n",
      "         [132, 133, 134]],\n",
      "\n",
      "        [[135, 136, 137],\n",
      "         [138, 139, 140],\n",
      "         [141, 142, 143]],\n",
      "\n",
      "        [[144, 145, 146],\n",
      "         [147, 148, 149],\n",
      "         [150, 151, 152]],\n",
      "\n",
      "        [[153, 154, 155],\n",
      "         [156, 157, 158],\n",
      "         [159, 160, 161]],\n",
      "\n",
      "        [[162, 163, 164],\n",
      "         [165, 166, 167],\n",
      "         [168, 169, 170]],\n",
      "\n",
      "        [[171, 172, 173],\n",
      "         [174, 175, 176],\n",
      "         [177, 178, 179]],\n",
      "\n",
      "        [[180, 181, 182],\n",
      "         [183, 184, 185],\n",
      "         [186, 187, 188]]])\n"
     ]
    }
   ],
   "source": [
    "a = torch.arange(189).reshape(21,3,3)\n",
    "print(a.shape)\n",
    "print(a)"
   ]
  },
  {
   "cell_type": "code",
   "execution_count": 38,
   "id": "ad9baac7",
   "metadata": {},
   "outputs": [
    {
     "name": "stdout",
     "output_type": "stream",
     "text": [
      "torch.Size([3, 3, 3])\n",
      "torch.Size([3, 3, 3])\n"
     ]
    }
   ],
   "source": [
    "a_1,a_2,a_3,a_4,a_5,a_6,a_7 = torch.split(a, 3, dim=0)\n",
    "print(a_1.shape)\n",
    "print(a_2.shape)"
   ]
  },
  {
   "cell_type": "code",
   "execution_count": 36,
   "id": "2dec9bab",
   "metadata": {},
   "outputs": [
    {
     "name": "stdout",
     "output_type": "stream",
     "text": [
      "torch.Size([5, 10, 10])\n"
     ]
    }
   ],
   "source": [
    "import torch.nn as nn\n",
    "C, H, W = 5, 10, 10\n",
    "input = torch.randn(C, H, W)\n",
    "layer_norm = nn.LayerNorm([C,H,W])\n",
    "output = layer_norm(input)\n",
    "print(output.shape)"
   ]
  },
  {
   "cell_type": "code",
   "execution_count": 39,
   "id": "63d1ab24",
   "metadata": {},
   "outputs": [
    {
     "name": "stdout",
     "output_type": "stream",
     "text": [
      "0\n",
      "1\n",
      "2\n",
      "3\n",
      "4\n",
      "5\n",
      "6\n",
      "7\n",
      "8\n",
      "9\n",
      "10\n",
      "11\n",
      "12\n",
      "13\n",
      "14\n",
      "15\n",
      "16\n",
      "17\n",
      "18\n",
      "19\n"
     ]
    }
   ],
   "source": [
    "for i in range(20):\n",
    "    print(i)"
   ]
  },
  {
   "cell_type": "code",
   "execution_count": 42,
   "id": "1d149dbc",
   "metadata": {},
   "outputs": [
    {
     "name": "stdout",
     "output_type": "stream",
     "text": [
      "['data', 'moving-mnist-example', 'moving-mnist-train.npz']\n",
      "variable name: clips  type: int32  shape:(2, 10000, 2)\n",
      "variable name: dims  type: int32  shape:(1, 3)\n",
      "variable name: input_raw_data  type: float32  shape:(200000, 1, 64, 64)\n",
      "[[[     0     10]\n",
      "  [    20     10]\n",
      "  [    40     10]\n",
      "  ...\n",
      "  [199940     10]\n",
      "  [199960     10]\n",
      "  [199980     10]]\n",
      "\n",
      " [[    10     10]\n",
      "  [    30     10]\n",
      "  [    50     10]\n",
      "  ...\n",
      "  [199950     10]\n",
      "  [199970     10]\n",
      "  [199990     10]]]\n"
     ]
    }
   ],
   "source": [
    "path = 'data/moving-mnist-example/moving-mnist-train.npz'\n",
    "train_mnist = path.split('/')\n",
    "print(train_mnist)\n",
    "mnist = np.load(path)\n",
    "for key in mnist.keys():\n",
    "    print(\"variable name:\", key          , end=\"  \")\n",
    "    print(\"type: \"+ str(mnist[key].dtype) , end=\"  \")\n",
    "    print(\"shape:\"+ str(mnist[key].shape))\n",
    "print(mnist['clips'])"
   ]
  },
  {
   "cell_type": "code",
   "execution_count": 5,
   "id": "7e8efb4c",
   "metadata": {},
   "outputs": [
    {
     "name": "stdout",
     "output_type": "stream",
     "text": [
      "[0 1 2 3 4 5 6 7 8 9]\n",
      "[9 6 1 0 2 5 3 7 4 8]\n"
     ]
    }
   ],
   "source": [
    "import torch\n",
    "import torch.nn as nn\n",
    "import numpy as np\n",
    "import random\n",
    "\n",
    "indices = []\n",
    "\n",
    "indices = np.arange(10, dtype='int32')\n",
    "print(indices)\n",
    "\n",
    "random.shuffle(indices)\n",
    "print(indices)"
   ]
  },
  {
   "cell_type": "code",
   "execution_count": 6,
   "id": "732cb584",
   "metadata": {},
   "outputs": [
    {
     "name": "stdout",
     "output_type": "stream",
     "text": [
      "['data', 'moving-mnist-example', 'moving-mnist-train.npz']\n",
      "variable name: clips  type: int32  shape:(2, 10000, 2)\n",
      "variable name: dims  type: int32  shape:(1, 3)\n",
      "variable name: input_raw_data  type: float32  shape:(200000, 1, 64, 64)\n"
     ]
    }
   ],
   "source": [
    "import torch\n",
    "import torch.nn as nn\n",
    "import numpy as np\n",
    "\n",
    "path = 'data/moving-mnist-example/moving-mnist-train.npz'\n",
    "train_mnist = path.split('/')\n",
    "print(train_mnist)\n",
    "mnist = np.load(path)\n",
    "for key in mnist.keys():\n",
    "    print(\"variable name:\", key          , end=\"  \")\n",
    "    print(\"type: \"+ str(mnist[key].dtype) , end=\"  \")\n",
    "    print(\"shape:\"+ str(mnist[key].shape))"
   ]
  },
  {
   "cell_type": "code",
   "execution_count": 9,
   "id": "f255bbe6",
   "metadata": {},
   "outputs": [
    {
     "name": "stdout",
     "output_type": "stream",
     "text": [
      "[[ 1 64 64]]\n",
      "[ 1 64 64]\n"
     ]
    },
    {
     "ename": "IndexError",
     "evalue": "index 1 is out of bounds for axis 0 with size 1",
     "output_type": "error",
     "traceback": [
      "\u001b[0;31m---------------------------------------------------------------------------\u001b[0m",
      "\u001b[0;31mIndexError\u001b[0m                                Traceback (most recent call last)",
      "Cell \u001b[0;32mIn [9], line 3\u001b[0m\n\u001b[1;32m      1\u001b[0m \u001b[38;5;28mprint\u001b[39m(mnist[\u001b[38;5;124m'\u001b[39m\u001b[38;5;124mdims\u001b[39m\u001b[38;5;124m'\u001b[39m])\n\u001b[1;32m      2\u001b[0m \u001b[38;5;28mprint\u001b[39m(mnist[\u001b[38;5;124m'\u001b[39m\u001b[38;5;124mdims\u001b[39m\u001b[38;5;124m'\u001b[39m][\u001b[38;5;241m0\u001b[39m])\n\u001b[0;32m----> 3\u001b[0m \u001b[38;5;28mprint\u001b[39m(\u001b[43mmnist\u001b[49m\u001b[43m[\u001b[49m\u001b[38;5;124;43m'\u001b[39;49m\u001b[38;5;124;43mdims\u001b[39;49m\u001b[38;5;124;43m'\u001b[39;49m\u001b[43m]\u001b[49m\u001b[43m[\u001b[49m\u001b[38;5;241;43m1\u001b[39;49m\u001b[43m]\u001b[49m)\n",
      "\u001b[0;31mIndexError\u001b[0m: index 1 is out of bounds for axis 0 with size 1"
     ]
    }
   ],
   "source": [
    "print(mnist['dims'])\n",
    "print(mnist['dims'][0])\n",
    "print(mnist['dims'][1])"
   ]
  },
  {
   "cell_type": "code",
   "execution_count": 14,
   "id": "9fc2056f",
   "metadata": {},
   "outputs": [
    {
     "name": "stdout",
     "output_type": "stream",
     "text": [
      "[[[[[0. 0. 0. 0.]\n",
      "    [0. 0. 0. 0.]\n",
      "    [0. 0. 0. 0.]]\n",
      "\n",
      "   [[0. 0. 0. 0.]\n",
      "    [0. 0. 0. 0.]\n",
      "    [0. 0. 0. 0.]]]]]\n",
      "[[[[[1. 2. 3. 4.]\n",
      "    [1. 2. 3. 4.]\n",
      "    [1. 2. 3. 4.]]\n",
      "\n",
      "   [[1. 2. 3. 4.]\n",
      "    [1. 2. 3. 4.]\n",
      "    [1. 2. 3. 4.]]]]]\n"
     ]
    }
   ],
   "source": [
    "list1 = [1, 2, 3, 4]\n",
    "list2 = np.zeros((1, 1, 2, 3, 4))\n",
    "print(list2)\n",
    "list2[0] =list1\n",
    "print(list2)"
   ]
  },
  {
   "cell_type": "code",
   "execution_count": 16,
   "id": "425585d8",
   "metadata": {
    "scrolled": true
   },
   "outputs": [
    {
     "name": "stdout",
     "output_type": "stream",
     "text": [
      "[[0.16509464 0.25138721 0.69309787 0.46692707 0.29846119 0.97657439\n",
      "  0.48625361 0.95191109 0.1069918 ]\n",
      " [0.26532712 0.57414459 0.25470442 0.88980886 0.81421634 0.58260303\n",
      "  0.98930618 0.31259425 0.50975022]\n",
      " [0.94157957 0.71502737 0.15863429 0.9877541  0.62983408 0.86470082\n",
      "  0.89923749 0.27963666 0.69795518]\n",
      " [0.12331123 0.97685886 0.40570745 0.42637758 0.14128342 0.98036037\n",
      "  0.10951302 0.04430625 0.72450642]\n",
      " [0.21472108 0.18272332 0.55186307 0.89515621 0.39373907 0.8949497\n",
      "  0.36325045 0.29686686 0.46609026]\n",
      " [0.16632059 0.8740224  0.39799511 0.32279556 0.46268695 0.23879206\n",
      "  0.7940682  0.10134354 0.21478003]\n",
      " [0.10902859 0.90683452 0.75580515 0.34916304 0.97149857 0.13774255\n",
      "  0.48219354 0.55478005 0.8652595 ]\n",
      " [0.43802965 0.51028082 0.37133714 0.69875261 0.65651167 0.2318166\n",
      "  0.3670478  0.21068312 0.44166879]\n",
      " [0.80466905 0.94646378 0.12878027 0.66657319 0.67371257 0.77264044\n",
      "  0.9244034  0.63572794 0.27596309]\n",
      " [0.66310607 0.8884232  0.83065827 0.38013649 0.88458347 0.09009041\n",
      "  0.24360657 0.85730083 0.76984572]\n",
      " [0.95494976 0.75285704 0.94344927 0.08105324 0.2032038  0.31610779\n",
      "  0.26157941 0.23768481 0.91702662]\n",
      " [0.42606247 0.8603865  0.33325688 0.64346564 0.95028561 0.93022524\n",
      "  0.42848558 0.53596928 0.51499884]\n",
      " [0.55608209 0.76853734 0.38989594 0.46024737 0.24311169 0.70112284\n",
      "  0.85263621 0.88708164 0.16469482]\n",
      " [0.00122202 0.67784411 0.36435331 0.01017869 0.93963622 0.07128913\n",
      "  0.63823177 0.72395666 0.9200011 ]\n",
      " [0.61949304 0.78095765 0.94871359 0.85008714 0.9461823  0.58241167\n",
      "  0.77472635 0.91977311 0.89625369]\n",
      " [0.22727284 0.50701981 0.86290347 0.28570714 0.86590872 0.39079468\n",
      "  0.19826149 0.44554961 0.4178318 ]\n",
      " [0.44026481 0.59395508 0.76000623 0.08909924 0.31072946 0.74412413\n",
      "  0.88498682 0.24646241 0.76119699]\n",
      " [0.26611971 0.63726933 0.2296905  0.16988969 0.51716168 0.81641196\n",
      "  0.51499587 0.10623041 0.45398448]\n",
      " [0.93633974 0.65883702 0.66428054 0.55664217 0.88542351 0.1810732\n",
      "  0.73879666 0.80418433 0.61349405]\n",
      " [0.18344974 0.13511294 0.67608619 0.30752754 0.74497422 0.94216063\n",
      "  0.0611107  0.23396971 0.55685165]]\n",
      "[[ True  True  True  True  True  True  True  True  True]\n",
      " [ True  True  True  True  True  True  True  True  True]\n",
      " [ True  True  True  True  True  True  True  True  True]\n",
      " [ True  True  True  True  True  True  True  True  True]\n",
      " [ True  True  True  True  True  True  True  True  True]\n",
      " [ True  True  True  True  True  True  True  True  True]\n",
      " [ True  True  True  True  True  True  True  True  True]\n",
      " [ True  True  True  True  True  True  True  True  True]\n",
      " [ True  True  True  True  True  True  True  True  True]\n",
      " [ True  True  True  True  True  True  True  True  True]\n",
      " [ True  True  True  True  True  True  True  True  True]\n",
      " [ True  True  True  True  True  True  True  True  True]\n",
      " [ True  True  True  True  True  True  True  True  True]\n",
      " [ True  True  True  True  True  True  True  True  True]\n",
      " [ True  True  True  True  True  True  True  True  True]\n",
      " [ True  True  True  True  True  True  True  True  True]\n",
      " [ True  True  True  True  True  True  True  True  True]\n",
      " [ True  True  True  True  True  True  True  True  True]\n",
      " [ True  True  True  True  True  True  True  True  True]\n",
      " [ True  True  True  True  True  True  True  True  True]]\n"
     ]
    }
   ],
   "source": [
    "random_flip = np.random.random_sample(\n",
    "        (20, 9))\n",
    "print(random_flip)\n",
    "print(random_flip<1)"
   ]
  },
  {
   "cell_type": "code",
   "execution_count": 18,
   "id": "f7dc361d",
   "metadata": {},
   "outputs": [
    {
     "name": "stdout",
     "output_type": "stream",
     "text": [
      "[[[1. 1. 1.]\n",
      "  [1. 1. 1.]]]\n",
      "[[[1. 1. 1.]\n",
      "  [1. 1. 1.]]]\n"
     ]
    }
   ],
   "source": [
    "ones = np.ones((1,2,3))\n",
    "print(ones)\n",
    "ones = np.array(ones)\n",
    "print(ones)"
   ]
  },
  {
   "cell_type": "code",
   "execution_count": 19,
   "id": "21f2d0c3",
   "metadata": {},
   "outputs": [
    {
     "name": "stdout",
     "output_type": "stream",
     "text": [
      "tensor([[0, 1],\n",
      "        [2, 3],\n",
      "        [4, 5],\n",
      "        [6, 7],\n",
      "        [8, 9]])\n"
     ]
    }
   ],
   "source": [
    "a = torch.arange(10).reshape(5,2)\n",
    "print(a)"
   ]
  },
  {
   "cell_type": "code",
   "execution_count": 22,
   "id": "72376b45",
   "metadata": {},
   "outputs": [
    {
     "name": "stdout",
     "output_type": "stream",
     "text": [
      "(tensor([[0, 1],\n",
      "        [2, 3],\n",
      "        [4, 5],\n",
      "        [6, 7],\n",
      "        [8, 9]]),)\n",
      "(tensor([[0, 1],\n",
      "        [2, 3]]), tensor([[4, 5],\n",
      "        [6, 7]]), tensor([[8, 9]]))\n"
     ]
    }
   ],
   "source": [
    "print(torch.split(a, 2, dim=1))\n",
    "print(torch.split(a, 2, dim=0))"
   ]
  },
  {
   "cell_type": "code",
   "execution_count": 23,
   "id": "b78e649d",
   "metadata": {},
   "outputs": [
    {
     "name": "stdout",
     "output_type": "stream",
     "text": [
      "tensor([[[ 0,  1,  2,  3,  4],\n",
      "         [ 5,  6,  7,  8,  9],\n",
      "         [10, 11, 12, 13, 14],\n",
      "         [15, 16, 17, 18, 19]],\n",
      "\n",
      "        [[20, 21, 22, 23, 24],\n",
      "         [25, 26, 27, 28, 29],\n",
      "         [30, 31, 32, 33, 34],\n",
      "         [35, 36, 37, 38, 39]],\n",
      "\n",
      "        [[40, 41, 42, 43, 44],\n",
      "         [45, 46, 47, 48, 49],\n",
      "         [50, 51, 52, 53, 54],\n",
      "         [55, 56, 57, 58, 59]]])\n"
     ]
    }
   ],
   "source": [
    "a = torch.arange(60).reshape(3,4,5)\n",
    "print(a)"
   ]
  },
  {
   "cell_type": "code",
   "execution_count": 25,
   "id": "d9e9c4de",
   "metadata": {
    "scrolled": true
   },
   "outputs": [
    {
     "name": "stdout",
     "output_type": "stream",
     "text": [
      "(tensor([[[ 0,  1,  2,  3,  4]],\n",
      "\n",
      "        [[20, 21, 22, 23, 24]],\n",
      "\n",
      "        [[40, 41, 42, 43, 44]]]), tensor([[[ 5,  6,  7,  8,  9]],\n",
      "\n",
      "        [[25, 26, 27, 28, 29]],\n",
      "\n",
      "        [[45, 46, 47, 48, 49]]]), tensor([[[10, 11, 12, 13, 14]],\n",
      "\n",
      "        [[30, 31, 32, 33, 34]],\n",
      "\n",
      "        [[50, 51, 52, 53, 54]]]), tensor([[[15, 16, 17, 18, 19]],\n",
      "\n",
      "        [[35, 36, 37, 38, 39]],\n",
      "\n",
      "        [[55, 56, 57, 58, 59]]]))\n",
      "(tensor([[[ 0,  1,  2,  3,  4],\n",
      "         [ 5,  6,  7,  8,  9],\n",
      "         [10, 11, 12, 13, 14],\n",
      "         [15, 16, 17, 18, 19]]]), tensor([[[20, 21, 22, 23, 24],\n",
      "         [25, 26, 27, 28, 29],\n",
      "         [30, 31, 32, 33, 34],\n",
      "         [35, 36, 37, 38, 39]]]), tensor([[[40, 41, 42, 43, 44],\n",
      "         [45, 46, 47, 48, 49],\n",
      "         [50, 51, 52, 53, 54],\n",
      "         [55, 56, 57, 58, 59]]]))\n",
      "(tensor([[[ 0],\n",
      "         [ 5],\n",
      "         [10],\n",
      "         [15]],\n",
      "\n",
      "        [[20],\n",
      "         [25],\n",
      "         [30],\n",
      "         [35]],\n",
      "\n",
      "        [[40],\n",
      "         [45],\n",
      "         [50],\n",
      "         [55]]]), tensor([[[ 1],\n",
      "         [ 6],\n",
      "         [11],\n",
      "         [16]],\n",
      "\n",
      "        [[21],\n",
      "         [26],\n",
      "         [31],\n",
      "         [36]],\n",
      "\n",
      "        [[41],\n",
      "         [46],\n",
      "         [51],\n",
      "         [56]]]), tensor([[[ 2],\n",
      "         [ 7],\n",
      "         [12],\n",
      "         [17]],\n",
      "\n",
      "        [[22],\n",
      "         [27],\n",
      "         [32],\n",
      "         [37]],\n",
      "\n",
      "        [[42],\n",
      "         [47],\n",
      "         [52],\n",
      "         [57]]]), tensor([[[ 3],\n",
      "         [ 8],\n",
      "         [13],\n",
      "         [18]],\n",
      "\n",
      "        [[23],\n",
      "         [28],\n",
      "         [33],\n",
      "         [38]],\n",
      "\n",
      "        [[43],\n",
      "         [48],\n",
      "         [53],\n",
      "         [58]]]), tensor([[[ 4],\n",
      "         [ 9],\n",
      "         [14],\n",
      "         [19]],\n",
      "\n",
      "        [[24],\n",
      "         [29],\n",
      "         [34],\n",
      "         [39]],\n",
      "\n",
      "        [[44],\n",
      "         [49],\n",
      "         [54],\n",
      "         [59]]]))\n"
     ]
    }
   ],
   "source": [
    "print(torch.split(a, 1, dim=1))\n",
    "print(torch.split(a, 1, dim=0))\n",
    "print(torch.split(a, 1, dim=2))"
   ]
  },
  {
   "cell_type": "code",
   "execution_count": 26,
   "id": "f01c77db",
   "metadata": {},
   "outputs": [
    {
     "name": "stdout",
     "output_type": "stream",
     "text": [
      "[1, 2, 3, 4, 5, 6, 7, 8, 9]\n"
     ]
    }
   ],
   "source": [
    "lista = [1,2,3,4,5,6,7,8,9]\n",
    "a = lista[-9:]\n",
    "print(a)"
   ]
  },
  {
   "cell_type": "code",
   "execution_count": 28,
   "id": "888e5089",
   "metadata": {},
   "outputs": [
    {
     "name": "stdout",
     "output_type": "stream",
     "text": [
      "[0.    0.765 1.234]\n",
      "[1.    1.    1.234]\n"
     ]
    }
   ],
   "source": [
    "listb = [-0.657, 0.765, 1.234]\n",
    "listb = np.maximum(listb, 0)\n",
    "print(listb)\n",
    "listb = np.maximum(listb, 1)\n",
    "print(listb)"
   ]
  },
  {
   "cell_type": "code",
   "execution_count": 30,
   "id": "fdc594f2",
   "metadata": {},
   "outputs": [
    {
     "name": "stdout",
     "output_type": "stream",
     "text": [
      "[[[ 0  1  2  3  4]\n",
      "  [ 5  6  7  8  9]\n",
      "  [10 11 12 13 14]\n",
      "  [15 16 17 18 19]]\n",
      "\n",
      " [[20 21 22 23 24]\n",
      "  [25 26 27 28 29]\n",
      "  [30 31 32 33 34]\n",
      "  [35 36 37 38 39]]\n",
      "\n",
      " [[40 41 42 43 44]\n",
      "  [45 46 47 48 49]\n",
      "  [50 51 52 53 54]\n",
      "  [55 56 57 58 59]]]\n",
      "20\n"
     ]
    }
   ],
   "source": [
    "a = np.arange(60).reshape(3,4,5)\n",
    "print(a)\n",
    "num = np.size(a[0])\n",
    "print(num)"
   ]
  },
  {
   "cell_type": "code",
   "execution_count": 33,
   "id": "bfd989a0",
   "metadata": {},
   "outputs": [
    {
     "name": "stdout",
     "output_type": "stream",
     "text": [
      "[[0.42614244 0.08676841 0.36674904 ... 0.13572802 0.36004552 0.06555361]\n",
      " [0.87007797 0.18944848 0.42415457 ... 0.68288693 0.9138163  0.90028494]\n",
      " [0.81146699 0.08969745 0.04693466 ... 0.05995937 0.38454793 0.41760673]\n",
      " ...\n",
      " [0.46414608 0.08886762 0.83514351 ... 0.65658545 0.69625827 0.8619719 ]\n",
      " [0.46839632 0.69025562 0.97206394 ... 0.51168174 0.03027639 0.32702546]\n",
      " [0.2856299  0.55494743 0.87139907 ... 0.68040767 0.04306934 0.89963635]]\n",
      "[[108  22  93 ...  34  91  16]\n",
      " [221  48 108 ... 174 233 229]\n",
      " [206  22  11 ...  15  98 106]\n",
      " ...\n",
      " [118  22 212 ... 167 177 219]\n",
      " [119 176 247 ... 130   7  83]\n",
      " [ 72 141 222 ... 173  10 229]]\n"
     ]
    },
    {
     "data": {
      "text/plain": [
       "True"
      ]
     },
     "execution_count": 33,
     "metadata": {},
     "output_type": "execute_result"
    }
   ],
   "source": [
    "import cv2\n",
    "img = np.random.random_sample((64, 64))\n",
    "print(img)\n",
    "img = np.uint8(img * 255)\n",
    "print(img)\n",
    "cv2.imwrite('demo.png', img)"
   ]
  },
  {
   "cell_type": "code",
   "execution_count": 35,
   "id": "33536178",
   "metadata": {},
   "outputs": [
    {
     "name": "stdout",
     "output_type": "stream",
     "text": [
      "Setting up [LPIPS] perceptual loss: trunk [alex], v[0.1], spatial [off]\n",
      "Loading model from: /Users/zhuzhirui/opt/anaconda3/envs/Pytorch_ESGAN/lib/python3.10/site-packages/lpips/weights/v0.1/alex.pth\n",
      "torch.Size([1, 1, 1, 1])\n"
     ]
    }
   ],
   "source": [
    "import Metrics\n",
    "img0 = torch.zeros(1,3,64,64)\n",
    "img1 = torch.zeros(1,3,64,64)\n",
    "lp_loss = Metrics.loss_fn_alex(img0, img1)\n",
    "print(lp_loss.shape)"
   ]
  },
  {
   "cell_type": "code",
   "execution_count": null,
   "id": "789d5676",
   "metadata": {},
   "outputs": [],
   "source": []
  }
 ],
 "metadata": {
  "kernelspec": {
   "display_name": "Python 3 (ipykernel)",
   "language": "python",
   "name": "python3"
  },
  "language_info": {
   "codemirror_mode": {
    "name": "ipython",
    "version": 3
   },
   "file_extension": ".py",
   "mimetype": "text/x-python",
   "name": "python",
   "nbconvert_exporter": "python",
   "pygments_lexer": "ipython3",
   "version": "3.10.6"
  }
 },
 "nbformat": 4,
 "nbformat_minor": 5
}
